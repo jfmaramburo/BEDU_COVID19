{
  "nbformat": 4,
  "nbformat_minor": 0,
  "metadata": {
    "colab": {
      "name": "COVID19_leerCSV_guardarMYSQL.ipynb",
      "provenance": [],
      "collapsed_sections": [],
      "mount_file_id": "1SugUc3FxL9NQDshGmZU9hzTTtfIvoEZK",
      "authorship_tag": "ABX9TyMnno5+fGqnnPAUHFVMc1cO",
      "include_colab_link": true
    },
    "kernelspec": {
      "name": "python3",
      "display_name": "Python 3"
    },
    "language_info": {
      "name": "python"
    }
  },
  "cells": [
    {
      "cell_type": "markdown",
      "metadata": {
        "id": "view-in-github",
        "colab_type": "text"
      },
      "source": [
        "<a href=\"https://colab.research.google.com/github/jfmaramburo/BEDU_COVID19/blob/main/COVID19_leerCSV_guardarMYSQL.ipynb\" target=\"_parent\"><img src=\"https://colab.research.google.com/assets/colab-badge.svg\" alt=\"Open In Colab\"/></a>"
      ]
    },
    {
      "cell_type": "code",
      "metadata": {
        "id": "hqswDreLGM1k"
      },
      "source": [
        "#Declaración de Imports\n",
        "import pandas as pd\n",
        "import sqlalchemy\n",
        "import yaml "
      ],
      "execution_count": 1,
      "outputs": []
    },
    {
      "cell_type": "code",
      "metadata": {
        "id": "Lwr0mPlUHV17"
      },
      "source": [
        "#Leer informacion desde archivo CSV\n",
        "df = pd.read_csv(\"210704COVID19MEXICO.csv\")"
      ],
      "execution_count": null,
      "outputs": []
    },
    {
      "cell_type": "code",
      "metadata": {
        "id": "eiRBkaXqHXaz"
      },
      "source": [
        "#Revisamos total de Registros y Tipos de Datos\n",
        "total_registros = len(df.index)\n",
        "print('Total de Regitros Leidos:',total_registros)\n",
        "df.dtypes"
      ],
      "execution_count": null,
      "outputs": []
    },
    {
      "cell_type": "code",
      "metadata": {
        "id": "XQD0rGy1HYth"
      },
      "source": [
        "#Validamos que no se encuentre ningun registro NA\n",
        "df.isna().sum()"
      ],
      "execution_count": null,
      "outputs": []
    },
    {
      "cell_type": "code",
      "metadata": {
        "id": "A-9gptb1Hb58"
      },
      "source": [
        "#Diccionario de Columnas que no ocuparemos\n",
        "col_borrar = ['ORIGEN'\n",
        "             ,'ENTIDAD_UM'\n",
        "             ,'ENTIDAD_NAC'\n",
        "             ,'TIPO_PACIENTE'\n",
        "             ,'FECHA_SINTOMAS'\n",
        "             ,'FECHA_DEF'\n",
        "             ,'INTUBADO'\n",
        "             ,'NEUMONIA'\n",
        "             ,'EDAD'\n",
        "             ,'NACIONALIDAD'             \n",
        "             ,'EMBARAZO'                 \n",
        "             ,'HABLA_LENGUA_INDIG'       \n",
        "             ,'INDIGENA'                 \n",
        "             ,'DIABETES'                 \n",
        "             ,'EPOC'                     \n",
        "             ,'ASMA'                     \n",
        "             ,'INMUSUPR'                 \n",
        "             ,'HIPERTENSION'             \n",
        "             ,'OTRA_COM'                 \n",
        "             ,'CARDIOVASCULAR'           \n",
        "             ,'OBESIDAD'                 \n",
        "             ,'RENAL_CRONICA'            \n",
        "             ,'TABAQUISMO'               \n",
        "             ,'OTRO_CASO'                \n",
        "             ,'TOMA_MUESTRA_LAB'         \n",
        "             ,'TOMA_MUESTRA_ANTIGENO'    \n",
        "             ,'RESULTADO_ANTIGENO'    \n",
        "             ,'MIGRANTE'              \n",
        "             ,'PAIS_ORIGEN'\n",
        "              ,'UCI']\n",
        "\n",
        "#Pasar a nuevo data frame informacion con eliminado de columnas\n",
        "df_mexico = df.drop(columns=col_borrar)"
      ],
      "execution_count": null,
      "outputs": []
    },
    {
      "cell_type": "code",
      "metadata": {
        "id": "SoiyLKkeHdzy"
      },
      "source": [
        "#convertimos los tipos de datos a fecha y validamos tipos de Datos:\n",
        "diccionario_de_conversion = {\n",
        "    'FECHA_ACTUALIZACION' : 'datetime64[ns]',\n",
        "    'FECHA_INGRESO' : 'datetime64[ns]'\n",
        "}\n",
        "\n",
        "df_mexico = df_mexico.astype(diccionario_de_conversion)\n",
        "df_mexico.dtypes"
      ],
      "execution_count": null,
      "outputs": []
    },
    {
      "cell_type": "code",
      "metadata": {
        "id": "HavzWExyHftY"
      },
      "source": [
        "#Realizamos Filtrado por Clasificacion y Nacionalidad = México:\n",
        "# 1: CASO DE COVID-19 CONFIRMADO POR ASOCIACIÓN CLÍNICA EPIDEMIOLÓGICA\n",
        "# 2: CASO DE COVID-19 CONFIRMADO POR COMITÉ DE  DICTAMINACIÓN\n",
        "# 3: CASO DE SARS-COV-2  CONFIRMADO\n",
        "# 6: CASO SOSPECHOSO\n",
        "\n",
        "clasificaciones = [1,2,3,6]\n",
        "df_mexico = df_mexico[df_mexico.CLASIFICACION_FINAL.isin (clasificaciones)& (df_mexico.PAIS_NACIONALIDAD == 'México') ]\n",
        "\n",
        "total_mexico = len(df_mexico.index)\n",
        "print('Total de Casos en México:',total_mexico)"
      ],
      "execution_count": null,
      "outputs": []
    },
    {
      "cell_type": "code",
      "metadata": {
        "id": "Rou2ZDXVHhcm"
      },
      "source": [
        "#Obtener DataFrame por Fecha de Ingreso, Entidad Federativa y tipo de Sexo\n",
        "df_res_mexico = df_mexico.groupby(['FECHA_INGRESO', 'ENTIDAD_RES','SEXO'] ).size().reset_index(name='CASOS')"
      ],
      "execution_count": null,
      "outputs": []
    },
    {
      "cell_type": "code",
      "metadata": {
        "id": "njI-FUT-Hh-T"
      },
      "source": [
        "df_res_mexico"
      ],
      "execution_count": null,
      "outputs": []
    },
    {
      "cell_type": "code",
      "metadata": {
        "id": "3sMcbWEkHkl7"
      },
      "source": [
        "#Obtener datos de conexion\n",
        "with open(\"config.yaml\", \"r\") as f:\n",
        "     params = yaml.load(f, Loader=yaml.FullLoader)\n",
        "    \n",
        "#Guadardar DataFrame DF_RES_MEXICO en Mysql\n",
        "database_username = params['username']\n",
        "database_password = params['password2']\n",
        "database_ip       = params['host']\n",
        "database_name     = params['database']\n",
        "database_connection = sqlalchemy.create_engine('mysql+mysqlconnector://{0}:{1}@{2}/{3}'.\n",
        "                                               format(database_username, database_password, \n",
        "                                                      database_ip, database_name))\n",
        "\n",
        "df_res_mexico.to_sql(con=database_connection, name='casos_global', if_exists='replace')"
      ],
      "execution_count": null,
      "outputs": []
    }
  ]
}