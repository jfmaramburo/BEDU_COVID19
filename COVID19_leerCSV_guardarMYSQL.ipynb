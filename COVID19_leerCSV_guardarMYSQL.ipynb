{
  "nbformat": 4,
  "nbformat_minor": 0,
  "metadata": {
    "colab": {
      "name": "COVID19_leerCSV_guardarMYSQL.ipynb",
      "provenance": [],
      "collapsed_sections": [],
      "mount_file_id": "1SugUc3FxL9NQDshGmZU9hzTTtfIvoEZK",
      "authorship_tag": "ABX9TyMyGSY0Uy68r+GZ6PZzF/v5",
      "include_colab_link": true
    },
    "kernelspec": {
      "name": "python3",
      "display_name": "Python 3"
    },
    "language_info": {
      "name": "python"
    }
  },
  "cells": [
    {
      "cell_type": "markdown",
      "metadata": {
        "id": "view-in-github",
        "colab_type": "text"
      },
      "source": [
        "<a href=\"https://colab.research.google.com/github/jfmaramburo/BEDU_COVID19/blob/main/COVID19_leerCSV_guardarMYSQL.ipynb\" target=\"_parent\"><img src=\"https://colab.research.google.com/assets/colab-badge.svg\" alt=\"Open In Colab\"/></a>"
      ]
    },
    {
      "cell_type": "code",
      "metadata": {
        "id": "hqswDreLGM1k"
      },
      "source": [
        "#Declaración de Imports\n",
        "import pandas as pd\n",
        "#!pip install sqlalchemy\n",
        "import sqlalchemy\n",
        "from sqlalchemy import create_engine\n",
        "#!pip install pymysql\n",
        "import pymysql\n",
        "#!pip install -U PyYAML\n",
        "import yaml \n",
        "#!pip install mysql.connector\n",
        "import mysql.connector"
      ],
      "execution_count": null,
      "outputs": []
    },
    {
      "cell_type": "code",
      "metadata": {
        "id": "Lwr0mPlUHV17"
      },
      "source": [
        "#Leer informacion desde archivo CSV\n",
        "df = pd.read_csv(\"/content/drive/MyDrive/Proyecto BEDU/Pitch/210728COVID19MEXICO.csv\")"
      ],
      "execution_count": null,
      "outputs": []
    },
    {
      "cell_type": "code",
      "metadata": {
        "colab": {
          "base_uri": "https://localhost:8080/"
        },
        "id": "eiRBkaXqHXaz",
        "outputId": "e5be27d3-0998-4844-f557-56e85a6a9f7d"
      },
      "source": [
        "#Revisamos total de Registros y Tipos de Datos\n",
        "total_registros = len(df.index)\n",
        "print('Total de Regitros Leidos:',total_registros)\n",
        "df.dtypes"
      ],
      "execution_count": null,
      "outputs": [
        {
          "output_type": "stream",
          "text": [
            "Total de Regitros Leidos: 8317170\n"
          ],
          "name": "stdout"
        },
        {
          "output_type": "execute_result",
          "data": {
            "text/plain": [
              "FECHA_ACTUALIZACION      object\n",
              "ID_REGISTRO              object\n",
              "ORIGEN                    int64\n",
              "SECTOR                    int64\n",
              "ENTIDAD_UM                int64\n",
              "SEXO                      int64\n",
              "ENTIDAD_NAC               int64\n",
              "ENTIDAD_RES               int64\n",
              "MUNICIPIO_RES             int64\n",
              "TIPO_PACIENTE             int64\n",
              "FECHA_INGRESO            object\n",
              "FECHA_SINTOMAS           object\n",
              "FECHA_DEF                object\n",
              "INTUBADO                  int64\n",
              "NEUMONIA                  int64\n",
              "EDAD                      int64\n",
              "NACIONALIDAD              int64\n",
              "EMBARAZO                  int64\n",
              "HABLA_LENGUA_INDIG        int64\n",
              "INDIGENA                  int64\n",
              "DIABETES                  int64\n",
              "EPOC                      int64\n",
              "ASMA                      int64\n",
              "INMUSUPR                  int64\n",
              "HIPERTENSION              int64\n",
              "OTRA_COM                  int64\n",
              "CARDIOVASCULAR            int64\n",
              "OBESIDAD                  int64\n",
              "RENAL_CRONICA             int64\n",
              "TABAQUISMO                int64\n",
              "OTRO_CASO                 int64\n",
              "TOMA_MUESTRA_LAB          int64\n",
              "RESULTADO_LAB             int64\n",
              "TOMA_MUESTRA_ANTIGENO     int64\n",
              "RESULTADO_ANTIGENO        int64\n",
              "CLASIFICACION_FINAL       int64\n",
              "MIGRANTE                  int64\n",
              "PAIS_NACIONALIDAD        object\n",
              "PAIS_ORIGEN              object\n",
              "UCI                       int64\n",
              "dtype: object"
            ]
          },
          "metadata": {
            "tags": []
          },
          "execution_count": 5
        }
      ]
    },
    {
      "cell_type": "code",
      "metadata": {
        "colab": {
          "base_uri": "https://localhost:8080/"
        },
        "id": "XQD0rGy1HYth",
        "outputId": "9d7cb83d-a4e7-4a14-9db2-24c613fe2889"
      },
      "source": [
        "#Validamos que no se encuentre ningun registro NA\n",
        "df.isna().sum()"
      ],
      "execution_count": null,
      "outputs": [
        {
          "output_type": "execute_result",
          "data": {
            "text/plain": [
              "FECHA_ACTUALIZACION      0\n",
              "ID_REGISTRO              0\n",
              "ORIGEN                   0\n",
              "SECTOR                   0\n",
              "ENTIDAD_UM               0\n",
              "SEXO                     0\n",
              "ENTIDAD_NAC              0\n",
              "ENTIDAD_RES              0\n",
              "MUNICIPIO_RES            0\n",
              "TIPO_PACIENTE            0\n",
              "FECHA_INGRESO            0\n",
              "FECHA_SINTOMAS           0\n",
              "FECHA_DEF                0\n",
              "INTUBADO                 0\n",
              "NEUMONIA                 0\n",
              "EDAD                     0\n",
              "NACIONALIDAD             0\n",
              "EMBARAZO                 0\n",
              "HABLA_LENGUA_INDIG       0\n",
              "INDIGENA                 0\n",
              "DIABETES                 0\n",
              "EPOC                     0\n",
              "ASMA                     0\n",
              "INMUSUPR                 0\n",
              "HIPERTENSION             0\n",
              "OTRA_COM                 0\n",
              "CARDIOVASCULAR           0\n",
              "OBESIDAD                 0\n",
              "RENAL_CRONICA            0\n",
              "TABAQUISMO               0\n",
              "OTRO_CASO                0\n",
              "TOMA_MUESTRA_LAB         0\n",
              "RESULTADO_LAB            0\n",
              "TOMA_MUESTRA_ANTIGENO    0\n",
              "RESULTADO_ANTIGENO       0\n",
              "CLASIFICACION_FINAL      0\n",
              "MIGRANTE                 0\n",
              "PAIS_NACIONALIDAD        0\n",
              "PAIS_ORIGEN              0\n",
              "UCI                      0\n",
              "dtype: int64"
            ]
          },
          "metadata": {
            "tags": []
          },
          "execution_count": 6
        }
      ]
    },
    {
      "cell_type": "code",
      "metadata": {
        "id": "A-9gptb1Hb58"
      },
      "source": [
        "#Diccionario de Columnas que no ocuparemos\n",
        "col_borrar = ['ORIGEN'\n",
        "             ,'ENTIDAD_UM'\n",
        "             ,'ENTIDAD_NAC'\n",
        "             ,'TIPO_PACIENTE'\n",
        "             ,'FECHA_SINTOMAS'\n",
        "             ,'FECHA_DEF'\n",
        "             ,'INTUBADO'\n",
        "             ,'NEUMONIA'\n",
        "             ,'EDAD'\n",
        "             ,'NACIONALIDAD'             \n",
        "             ,'EMBARAZO'                 \n",
        "             ,'HABLA_LENGUA_INDIG'       \n",
        "             ,'INDIGENA'                 \n",
        "             ,'DIABETES'                 \n",
        "             ,'EPOC'                     \n",
        "             ,'ASMA'                     \n",
        "             ,'INMUSUPR'                 \n",
        "             ,'HIPERTENSION'             \n",
        "             ,'OTRA_COM'                 \n",
        "             ,'CARDIOVASCULAR'           \n",
        "             ,'OBESIDAD'                 \n",
        "             ,'RENAL_CRONICA'            \n",
        "             ,'TABAQUISMO'               \n",
        "             ,'OTRO_CASO'                \n",
        "             ,'TOMA_MUESTRA_LAB'         \n",
        "             ,'TOMA_MUESTRA_ANTIGENO'    \n",
        "             ,'RESULTADO_ANTIGENO'    \n",
        "             ,'MIGRANTE'              \n",
        "             ,'PAIS_ORIGEN'\n",
        "              ,'UCI']\n",
        "\n",
        "#Pasar a nuevo data frame informacion con eliminado de columnas\n",
        "df_mexico = df.drop(columns=col_borrar)"
      ],
      "execution_count": null,
      "outputs": []
    },
    {
      "cell_type": "code",
      "metadata": {
        "colab": {
          "base_uri": "https://localhost:8080/"
        },
        "id": "SoiyLKkeHdzy",
        "outputId": "2057f49e-e80a-42a6-bc65-3716c12d89a3"
      },
      "source": [
        "#convertimos los tipos de datos a fecha y validamos tipos de Datos:\n",
        "diccionario_de_conversion = {\n",
        "    'FECHA_ACTUALIZACION' : 'datetime64[ns]',\n",
        "    'FECHA_INGRESO' : 'datetime64[ns]'\n",
        "}\n",
        "\n",
        "df_mexico = df_mexico.astype(diccionario_de_conversion)\n",
        "df_mexico.dtypes"
      ],
      "execution_count": null,
      "outputs": [
        {
          "output_type": "execute_result",
          "data": {
            "text/plain": [
              "FECHA_ACTUALIZACION    datetime64[ns]\n",
              "ID_REGISTRO                    object\n",
              "SECTOR                          int64\n",
              "SEXO                            int64\n",
              "ENTIDAD_RES                     int64\n",
              "MUNICIPIO_RES                   int64\n",
              "FECHA_INGRESO          datetime64[ns]\n",
              "RESULTADO_LAB                   int64\n",
              "CLASIFICACION_FINAL             int64\n",
              "PAIS_NACIONALIDAD              object\n",
              "dtype: object"
            ]
          },
          "metadata": {
            "tags": []
          },
          "execution_count": 8
        }
      ]
    },
    {
      "cell_type": "code",
      "metadata": {
        "colab": {
          "base_uri": "https://localhost:8080/"
        },
        "id": "HavzWExyHftY",
        "outputId": "64ecbf13-85dd-4685-b445-7640ad0cef6c"
      },
      "source": [
        "#Realizamos Filtrado por Clasificacion y Nacionalidad = México:\n",
        "# 1: CASO DE COVID-19 CONFIRMADO POR ASOCIACIÓN CLÍNICA EPIDEMIOLÓGICA\n",
        "# 2: CASO DE COVID-19 CONFIRMADO POR COMITÉ DE  DICTAMINACIÓN\n",
        "# 3: CASO DE SARS-COV-2  CONFIRMADO\n",
        "# 6: CASO SOSPECHOSO\n",
        "\n",
        "clasificaciones = [1,2,3,6]\n",
        "df_mexico = df_mexico[df_mexico.CLASIFICACION_FINAL.isin (clasificaciones)& (df_mexico.PAIS_NACIONALIDAD == 'México') ]\n",
        "\n",
        "total_mexico = len(df_mexico.index)\n",
        "print('Total de Casos en México:',total_mexico)"
      ],
      "execution_count": null,
      "outputs": [
        {
          "output_type": "stream",
          "text": [
            "Total de Casos en México: 3157660\n"
          ],
          "name": "stdout"
        }
      ]
    },
    {
      "cell_type": "code",
      "metadata": {
        "id": "Rou2ZDXVHhcm"
      },
      "source": [
        "#Obtener DataFrame por Fecha de Ingreso, Entidad Federativa y tipo de Sexo\n",
        "df_res_mexico = df_mexico.groupby(['FECHA_INGRESO', 'ENTIDAD_RES','SEXO'] ).size().reset_index(name='CASOS')"
      ],
      "execution_count": null,
      "outputs": []
    },
    {
      "cell_type": "code",
      "metadata": {
        "colab": {
          "base_uri": "https://localhost:8080/",
          "height": 419
        },
        "id": "njI-FUT-Hh-T",
        "outputId": "e29abc35-ac8c-4655-bd5b-bfb75f2bdf5c"
      },
      "source": [
        "df_res_mexico"
      ],
      "execution_count": null,
      "outputs": [
        {
          "output_type": "execute_result",
          "data": {
            "text/html": [
              "<div>\n",
              "<style scoped>\n",
              "    .dataframe tbody tr th:only-of-type {\n",
              "        vertical-align: middle;\n",
              "    }\n",
              "\n",
              "    .dataframe tbody tr th {\n",
              "        vertical-align: top;\n",
              "    }\n",
              "\n",
              "    .dataframe thead th {\n",
              "        text-align: right;\n",
              "    }\n",
              "</style>\n",
              "<table border=\"1\" class=\"dataframe\">\n",
              "  <thead>\n",
              "    <tr style=\"text-align: right;\">\n",
              "      <th></th>\n",
              "      <th>FECHA_INGRESO</th>\n",
              "      <th>ENTIDAD_RES</th>\n",
              "      <th>SEXO</th>\n",
              "      <th>CASOS</th>\n",
              "    </tr>\n",
              "  </thead>\n",
              "  <tbody>\n",
              "    <tr>\n",
              "      <th>0</th>\n",
              "      <td>2020-01-01</td>\n",
              "      <td>9</td>\n",
              "      <td>2</td>\n",
              "      <td>1</td>\n",
              "    </tr>\n",
              "    <tr>\n",
              "      <th>1</th>\n",
              "      <td>2020-01-01</td>\n",
              "      <td>11</td>\n",
              "      <td>2</td>\n",
              "      <td>1</td>\n",
              "    </tr>\n",
              "    <tr>\n",
              "      <th>2</th>\n",
              "      <td>2020-01-01</td>\n",
              "      <td>15</td>\n",
              "      <td>1</td>\n",
              "      <td>1</td>\n",
              "    </tr>\n",
              "    <tr>\n",
              "      <th>3</th>\n",
              "      <td>2020-01-01</td>\n",
              "      <td>18</td>\n",
              "      <td>1</td>\n",
              "      <td>1</td>\n",
              "    </tr>\n",
              "    <tr>\n",
              "      <th>4</th>\n",
              "      <td>2020-01-01</td>\n",
              "      <td>19</td>\n",
              "      <td>1</td>\n",
              "      <td>2</td>\n",
              "    </tr>\n",
              "    <tr>\n",
              "      <th>...</th>\n",
              "      <td>...</td>\n",
              "      <td>...</td>\n",
              "      <td>...</td>\n",
              "      <td>...</td>\n",
              "    </tr>\n",
              "    <tr>\n",
              "      <th>34953</th>\n",
              "      <td>2021-07-28</td>\n",
              "      <td>30</td>\n",
              "      <td>1</td>\n",
              "      <td>1</td>\n",
              "    </tr>\n",
              "    <tr>\n",
              "      <th>34954</th>\n",
              "      <td>2021-07-28</td>\n",
              "      <td>30</td>\n",
              "      <td>2</td>\n",
              "      <td>1</td>\n",
              "    </tr>\n",
              "    <tr>\n",
              "      <th>34955</th>\n",
              "      <td>2021-07-28</td>\n",
              "      <td>31</td>\n",
              "      <td>2</td>\n",
              "      <td>2</td>\n",
              "    </tr>\n",
              "    <tr>\n",
              "      <th>34956</th>\n",
              "      <td>2021-07-28</td>\n",
              "      <td>32</td>\n",
              "      <td>1</td>\n",
              "      <td>1</td>\n",
              "    </tr>\n",
              "    <tr>\n",
              "      <th>34957</th>\n",
              "      <td>2021-07-28</td>\n",
              "      <td>32</td>\n",
              "      <td>2</td>\n",
              "      <td>1</td>\n",
              "    </tr>\n",
              "  </tbody>\n",
              "</table>\n",
              "<p>34958 rows × 4 columns</p>\n",
              "</div>"
            ],
            "text/plain": [
              "      FECHA_INGRESO  ENTIDAD_RES  SEXO  CASOS\n",
              "0        2020-01-01            9     2      1\n",
              "1        2020-01-01           11     2      1\n",
              "2        2020-01-01           15     1      1\n",
              "3        2020-01-01           18     1      1\n",
              "4        2020-01-01           19     1      2\n",
              "...             ...          ...   ...    ...\n",
              "34953    2021-07-28           30     1      1\n",
              "34954    2021-07-28           30     2      1\n",
              "34955    2021-07-28           31     2      2\n",
              "34956    2021-07-28           32     1      1\n",
              "34957    2021-07-28           32     2      1\n",
              "\n",
              "[34958 rows x 4 columns]"
            ]
          },
          "metadata": {
            "tags": []
          },
          "execution_count": 14
        }
      ]
    },
    {
      "cell_type": "code",
      "metadata": {
        "id": "3sMcbWEkHkl7"
      },
      "source": [
        "#Obtener datos de conexion\n",
        "with open(\"/content/drive/MyDrive/Proyecto BEDU/Pitch/config.yaml\", \"r\") as f:\n",
        "     params = yaml.load(f, Loader=yaml.FullLoader)\n",
        "    \n",
        "#Guadardar DataFrame DF_RES_MEXICO en Mysql\n",
        "database_username = params['username']\n",
        "database_password = params['password']\n",
        "database_ip       = params['host']\n",
        "database_port     = params['port']\n",
        "database_name     = params['database']\n",
        "database_connection = sqlalchemy.create_engine('mysql+mysqlconnector://{0}:{1}@{2}:10001/{3}'.\n",
        "                                               format(database_username, database_password, database_ip,  database_name))\n",
        "\n",
        "df_res_mexico.to_sql(con=database_connection, name='casos_global', if_exists='replace')"
      ],
      "execution_count": null,
      "outputs": []
    },
    {
      "cell_type": "code",
      "metadata": {
        "colab": {
          "base_uri": "https://localhost:8080/",
          "height": 419
        },
        "id": "sw1RHMWD32rZ",
        "outputId": "ffa4a9fc-8c8e-4acb-ede4-35b6d2ed5597"
      },
      "source": [
        "df_sonora = df_mexico[(df_mexico.ENTIDAD_RES == 26) ]\n",
        "df_res_mexico = df_sonora.groupby(['FECHA_INGRESO', 'MUNICIPIO_RES','SEXO'] ).size().reset_index(name='CASOS')\n",
        "df_res_mexico"
      ],
      "execution_count": 21,
      "outputs": [
        {
          "output_type": "execute_result",
          "data": {
            "text/html": [
              "<div>\n",
              "<style scoped>\n",
              "    .dataframe tbody tr th:only-of-type {\n",
              "        vertical-align: middle;\n",
              "    }\n",
              "\n",
              "    .dataframe tbody tr th {\n",
              "        vertical-align: top;\n",
              "    }\n",
              "\n",
              "    .dataframe thead th {\n",
              "        text-align: right;\n",
              "    }\n",
              "</style>\n",
              "<table border=\"1\" class=\"dataframe\">\n",
              "  <thead>\n",
              "    <tr style=\"text-align: right;\">\n",
              "      <th></th>\n",
              "      <th>FECHA_INGRESO</th>\n",
              "      <th>MUNICIPIO_RES</th>\n",
              "      <th>SEXO</th>\n",
              "      <th>CASOS</th>\n",
              "    </tr>\n",
              "  </thead>\n",
              "  <tbody>\n",
              "    <tr>\n",
              "      <th>0</th>\n",
              "      <td>2020-01-01</td>\n",
              "      <td>30</td>\n",
              "      <td>1</td>\n",
              "      <td>1</td>\n",
              "    </tr>\n",
              "    <tr>\n",
              "      <th>1</th>\n",
              "      <td>2020-01-02</td>\n",
              "      <td>55</td>\n",
              "      <td>2</td>\n",
              "      <td>1</td>\n",
              "    </tr>\n",
              "    <tr>\n",
              "      <th>2</th>\n",
              "      <td>2020-01-05</td>\n",
              "      <td>30</td>\n",
              "      <td>2</td>\n",
              "      <td>1</td>\n",
              "    </tr>\n",
              "    <tr>\n",
              "      <th>3</th>\n",
              "      <td>2020-01-06</td>\n",
              "      <td>30</td>\n",
              "      <td>2</td>\n",
              "      <td>1</td>\n",
              "    </tr>\n",
              "    <tr>\n",
              "      <th>4</th>\n",
              "      <td>2020-01-06</td>\n",
              "      <td>42</td>\n",
              "      <td>2</td>\n",
              "      <td>1</td>\n",
              "    </tr>\n",
              "    <tr>\n",
              "      <th>...</th>\n",
              "      <td>...</td>\n",
              "      <td>...</td>\n",
              "      <td>...</td>\n",
              "      <td>...</td>\n",
              "    </tr>\n",
              "    <tr>\n",
              "      <th>12626</th>\n",
              "      <td>2021-07-27</td>\n",
              "      <td>56</td>\n",
              "      <td>1</td>\n",
              "      <td>2</td>\n",
              "    </tr>\n",
              "    <tr>\n",
              "      <th>12627</th>\n",
              "      <td>2021-07-27</td>\n",
              "      <td>70</td>\n",
              "      <td>1</td>\n",
              "      <td>2</td>\n",
              "    </tr>\n",
              "    <tr>\n",
              "      <th>12628</th>\n",
              "      <td>2021-07-27</td>\n",
              "      <td>70</td>\n",
              "      <td>2</td>\n",
              "      <td>1</td>\n",
              "    </tr>\n",
              "    <tr>\n",
              "      <th>12629</th>\n",
              "      <td>2021-07-27</td>\n",
              "      <td>71</td>\n",
              "      <td>2</td>\n",
              "      <td>1</td>\n",
              "    </tr>\n",
              "    <tr>\n",
              "      <th>12630</th>\n",
              "      <td>2021-07-28</td>\n",
              "      <td>29</td>\n",
              "      <td>1</td>\n",
              "      <td>1</td>\n",
              "    </tr>\n",
              "  </tbody>\n",
              "</table>\n",
              "<p>12631 rows × 4 columns</p>\n",
              "</div>"
            ],
            "text/plain": [
              "      FECHA_INGRESO  MUNICIPIO_RES  SEXO  CASOS\n",
              "0        2020-01-01             30     1      1\n",
              "1        2020-01-02             55     2      1\n",
              "2        2020-01-05             30     2      1\n",
              "3        2020-01-06             30     2      1\n",
              "4        2020-01-06             42     2      1\n",
              "...             ...            ...   ...    ...\n",
              "12626    2021-07-27             56     1      2\n",
              "12627    2021-07-27             70     1      2\n",
              "12628    2021-07-27             70     2      1\n",
              "12629    2021-07-27             71     2      1\n",
              "12630    2021-07-28             29     1      1\n",
              "\n",
              "[12631 rows x 4 columns]"
            ]
          },
          "metadata": {
            "tags": []
          },
          "execution_count": 21
        }
      ]
    },
    {
      "cell_type": "code",
      "metadata": {
        "id": "jzxxcIr55TvC"
      },
      "source": [
        "#Obtener datos de conexion\n",
        "with open(\"/content/drive/MyDrive/Proyecto BEDU/Pitch/config.yaml\", \"r\") as f:\n",
        "     params = yaml.load(f, Loader=yaml.FullLoader)\n",
        "    \n",
        "#Guadardar DataFrame DF_RES_SONORA en Mysql\n",
        "database_username = params['username']\n",
        "database_password = params['password']\n",
        "database_ip       = params['host']\n",
        "database_port     = params['port']\n",
        "database_name     = params['database']\n",
        "database_connection = sqlalchemy.create_engine('mysql+mysqlconnector://{0}:{1}@{2}:10001/{3}'.\n",
        "                                               format(database_username, database_password, database_ip,  database_name))\n",
        "\n",
        "df_res_mexico.to_sql(con=database_connection, name='casos_sonora', if_exists='replace')"
      ],
      "execution_count": 22,
      "outputs": []
    }
  ]
}